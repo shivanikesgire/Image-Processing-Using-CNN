{
 "cells": [
  {
   "cell_type": "code",
   "execution_count": 1,
   "id": "f2fa34bf-bb6f-4e47-b499-31b3f9dab4e1",
   "metadata": {},
   "outputs": [],
   "source": [
    "import numpy as np\n",
    "import matplotlib.pyplot as plt\n",
    "import tensorflow as tf\n",
    "from tensorflow.keras.preprocessing.image import ImageDataGenerator\n",
    "from tensorflow.keras.models import Sequential\n",
    "from tensorflow.keras.layers import Dense,Conv2D,Flatten,MaxPool2D\n",
    "import os"
   ]
  },
  {
   "cell_type": "code",
   "execution_count": 2,
   "id": "01afac53-5076-4c64-a99c-b461c0c391d3",
   "metadata": {},
   "outputs": [],
   "source": [
    "import warnings\n",
    "warnings.filterwarnings(\"ignore\")"
   ]
  },
  {
   "cell_type": "code",
   "execution_count": 3,
   "id": "c08d9b31-72b5-4401-8873-8376f0382a5b",
   "metadata": {},
   "outputs": [],
   "source": [
    "train_dir=r\"C:\\Users\\hp\\OneDrive\\Desktop\\jupitar\\train\"\n",
    "test_dir=r\"C:\\Users\\hp\\OneDrive\\Desktop\\jupitar\\test\""
   ]
  },
  {
   "cell_type": "code",
   "execution_count": 4,
   "id": "f3625a4c-506c-497c-a11a-66fa337f202c",
   "metadata": {},
   "outputs": [],
   "source": [
    "img_width,img_height=512,512"
   ]
  },
  {
   "cell_type": "code",
   "execution_count": 5,
   "id": "bafc3a84-fb26-40ee-a86e-ebeb7e26df9b",
   "metadata": {},
   "outputs": [],
   "source": [
    "batch_size=32"
   ]
  },
  {
   "cell_type": "code",
   "execution_count": 6,
   "id": "65e3403e-fb93-4c56-b2b7-7ce457d60ec6",
   "metadata": {},
   "outputs": [],
   "source": [
    "train_datagen=ImageDataGenerator(\n",
    "    rescale=1.0/255.0,\n",
    "    rotation_range=20,\n",
    "    width_shift_range=0.2,\n",
    "    height_shift_range=0.2,\n",
    "    shear_range=0.2,\n",
    "    zoom_range=0.2,\n",
    "    horizontal_flip=True,\n",
    ")\n"
   ]
  },
  {
   "cell_type": "code",
   "execution_count": 7,
   "id": "ca9d7094-fb5d-45a2-9788-244cfe4adb5c",
   "metadata": {},
   "outputs": [],
   "source": [
    "test_datagen=ImageDataGenerator(rescale=1./255)"
   ]
  },
  {
   "cell_type": "code",
   "execution_count": 8,
   "id": "20a02cd6-437d-41b1-b941-1989bbf09af6",
   "metadata": {},
   "outputs": [
    {
     "name": "stdout",
     "output_type": "stream",
     "text": [
      "Found 251 images belonging to 3 classes.\n"
     ]
    }
   ],
   "source": [
    "x_train=train_datagen.flow_from_directory(\n",
    "    train_dir,\n",
    "    batch_size=batch_size,\n",
    "    class_mode=\"categorical\",\n",
    "    target_size=(img_width,img_height)\n",
    ")"
   ]
  },
  {
   "cell_type": "code",
   "execution_count": 9,
   "id": "efd45be7-b3fc-4ba3-a080-f5f33e1cc895",
   "metadata": {},
   "outputs": [
    {
     "name": "stdout",
     "output_type": "stream",
     "text": [
      "Found 66 images belonging to 3 classes.\n"
     ]
    }
   ],
   "source": [
    "x_test=test_datagen.flow_from_directory(\n",
    "    test_dir,\n",
    "    batch_size=batch_size,\n",
    "    class_mode=\"categorical\",\n",
    "    target_size=(img_width,img_height)\n",
    ")"
   ]
  },
  {
   "cell_type": "code",
   "execution_count": 10,
   "id": "02cafff0-d323-4f0e-8cbd-3905b8a785ad",
   "metadata": {},
   "outputs": [],
   "source": [
    "model=Sequential([\n",
    "   Conv2D(32, (3, 3), activation=\"relu\", input_shape=(img_width, img_height, 3)),\n",
    "    MaxPool2D((2, 2)),\n",
    "    Conv2D(64, (3, 3), activation=\"relu\"),\n",
    "    MaxPool2D((2, 2)),\n",
    "    Conv2D(128, (3, 3), activation=\"relu\"),\n",
    "    MaxPool2D((2, 2)),\n",
    "    Conv2D(128, (3, 3), activation=\"relu\"),\n",
    "    MaxPool2D((2, 2)),\n",
    "    Flatten(),\n",
    "    Dense(512, activation=\"relu\"),\n",
    "    Dense(256, activation=\"relu\"),\n",
    "    Dense(3, activation=\"softmax\")\n",
    "])"
   ]
  },
  {
   "cell_type": "code",
   "execution_count": 11,
   "id": "ebbe3261-8df6-4596-b543-c3bd2b064dce",
   "metadata": {},
   "outputs": [],
   "source": [
    "model.compile(optimizer=\"adam\",loss=\"categorical_crossentropy\",metrics=[\"accuracy\"])"
   ]
  },
  {
   "cell_type": "code",
   "execution_count": 13,
   "id": "5790920d-fbce-44e8-a5e4-04a2704f4390",
   "metadata": {},
   "outputs": [
    {
     "name": "stdout",
     "output_type": "stream",
     "text": [
      "Epoch 1/30\n",
      "\u001b[1m8/8\u001b[0m \u001b[32m━━━━━━━━━━━━━━━━━━━━\u001b[0m\u001b[37m\u001b[0m \u001b[1m166s\u001b[0m 16s/step - accuracy: 0.3470 - loss: 2.0712 - val_accuracy: 0.4394 - val_loss: 1.0718\n",
      "Epoch 2/30\n",
      "\u001b[1m8/8\u001b[0m \u001b[32m━━━━━━━━━━━━━━━━━━━━\u001b[0m\u001b[37m\u001b[0m \u001b[1m153s\u001b[0m 15s/step - accuracy: 0.5292 - loss: 0.9976 - val_accuracy: 0.6061 - val_loss: 0.9867\n",
      "Epoch 3/30\n",
      "\u001b[1m8/8\u001b[0m \u001b[32m━━━━━━━━━━━━━━━━━━━━\u001b[0m\u001b[37m\u001b[0m \u001b[1m152s\u001b[0m 14s/step - accuracy: 0.7068 - loss: 0.6864 - val_accuracy: 0.6061 - val_loss: 1.1757\n",
      "Epoch 4/30\n",
      "\u001b[1m8/8\u001b[0m \u001b[32m━━━━━━━━━━━━━━━━━━━━\u001b[0m\u001b[37m\u001b[0m \u001b[1m142s\u001b[0m 14s/step - accuracy: 0.7724 - loss: 0.5861 - val_accuracy: 0.6061 - val_loss: 1.1329\n",
      "Epoch 5/30\n",
      "\u001b[1m8/8\u001b[0m \u001b[32m━━━━━━━━━━━━━━━━━━━━\u001b[0m\u001b[37m\u001b[0m \u001b[1m138s\u001b[0m 14s/step - accuracy: 0.7851 - loss: 0.5968 - val_accuracy: 0.5758 - val_loss: 0.9913\n",
      "Epoch 6/30\n",
      "\u001b[1m8/8\u001b[0m \u001b[32m━━━━━━━━━━━━━━━━━━━━\u001b[0m\u001b[37m\u001b[0m \u001b[1m149s\u001b[0m 15s/step - accuracy: 0.7695 - loss: 0.4736 - val_accuracy: 0.6061 - val_loss: 1.0993\n",
      "Epoch 7/30\n",
      "\u001b[1m8/8\u001b[0m \u001b[32m━━━━━━━━━━━━━━━━━━━━\u001b[0m\u001b[37m\u001b[0m \u001b[1m194s\u001b[0m 21s/step - accuracy: 0.7741 - loss: 0.4991 - val_accuracy: 0.6515 - val_loss: 0.9913\n",
      "Epoch 8/30\n",
      "\u001b[1m8/8\u001b[0m \u001b[32m━━━━━━━━━━━━━━━━━━━━\u001b[0m\u001b[37m\u001b[0m \u001b[1m172s\u001b[0m 18s/step - accuracy: 0.7963 - loss: 0.6104 - val_accuracy: 0.6667 - val_loss: 0.9006\n",
      "Epoch 9/30\n",
      "\u001b[1m8/8\u001b[0m \u001b[32m━━━━━━━━━━━━━━━━━━━━\u001b[0m\u001b[37m\u001b[0m \u001b[1m171s\u001b[0m 18s/step - accuracy: 0.8369 - loss: 0.3989 - val_accuracy: 0.6061 - val_loss: 1.2032\n",
      "Epoch 10/30\n",
      "\u001b[1m8/8\u001b[0m \u001b[32m━━━━━━━━━━━━━━━━━━━━\u001b[0m\u001b[37m\u001b[0m \u001b[1m158s\u001b[0m 17s/step - accuracy: 0.7882 - loss: 0.4625 - val_accuracy: 0.6212 - val_loss: 0.9978\n",
      "Epoch 11/30\n",
      "\u001b[1m8/8\u001b[0m \u001b[32m━━━━━━━━━━━━━━━━━━━━\u001b[0m\u001b[37m\u001b[0m \u001b[1m150s\u001b[0m 15s/step - accuracy: 0.8006 - loss: 0.4189 - val_accuracy: 0.5909 - val_loss: 1.0233\n",
      "Epoch 12/30\n",
      "\u001b[1m8/8\u001b[0m \u001b[32m━━━━━━━━━━━━━━━━━━━━\u001b[0m\u001b[37m\u001b[0m \u001b[1m189s\u001b[0m 20s/step - accuracy: 0.8102 - loss: 0.4310 - val_accuracy: 0.6212 - val_loss: 0.9961\n",
      "Epoch 13/30\n",
      "\u001b[1m8/8\u001b[0m \u001b[32m━━━━━━━━━━━━━━━━━━━━\u001b[0m\u001b[37m\u001b[0m \u001b[1m155s\u001b[0m 16s/step - accuracy: 0.8572 - loss: 0.6107 - val_accuracy: 0.6515 - val_loss: 0.7846\n",
      "Epoch 14/30\n",
      "\u001b[1m8/8\u001b[0m \u001b[32m━━━━━━━━━━━━━━━━━━━━\u001b[0m\u001b[37m\u001b[0m \u001b[1m154s\u001b[0m 15s/step - accuracy: 0.8119 - loss: 0.4527 - val_accuracy: 0.6061 - val_loss: 1.0091\n",
      "Epoch 15/30\n",
      "\u001b[1m8/8\u001b[0m \u001b[32m━━━━━━━━━━━━━━━━━━━━\u001b[0m\u001b[37m\u001b[0m \u001b[1m160s\u001b[0m 17s/step - accuracy: 0.8220 - loss: 0.4375 - val_accuracy: 0.6212 - val_loss: 1.0796\n",
      "Epoch 16/30\n",
      "\u001b[1m8/8\u001b[0m \u001b[32m━━━━━━━━━━━━━━━━━━━━\u001b[0m\u001b[37m\u001b[0m \u001b[1m169s\u001b[0m 17s/step - accuracy: 0.8505 - loss: 0.4077 - val_accuracy: 0.5909 - val_loss: 0.8156\n",
      "Epoch 17/30\n",
      "\u001b[1m8/8\u001b[0m \u001b[32m━━━━━━━━━━━━━━━━━━━━\u001b[0m\u001b[37m\u001b[0m \u001b[1m142s\u001b[0m 14s/step - accuracy: 0.8583 - loss: 0.4268 - val_accuracy: 0.6061 - val_loss: 0.8479\n",
      "Epoch 18/30\n",
      "\u001b[1m8/8\u001b[0m \u001b[32m━━━━━━━━━━━━━━━━━━━━\u001b[0m\u001b[37m\u001b[0m \u001b[1m150s\u001b[0m 15s/step - accuracy: 0.8137 - loss: 0.3879 - val_accuracy: 0.6364 - val_loss: 0.8125\n",
      "Epoch 19/30\n",
      "\u001b[1m8/8\u001b[0m \u001b[32m━━━━━━━━━━━━━━━━━━━━\u001b[0m\u001b[37m\u001b[0m \u001b[1m159s\u001b[0m 17s/step - accuracy: 0.9179 - loss: 0.3486 - val_accuracy: 0.6515 - val_loss: 0.7098\n",
      "Epoch 20/30\n",
      "\u001b[1m8/8\u001b[0m \u001b[32m━━━━━━━━━━━━━━━━━━━━\u001b[0m\u001b[37m\u001b[0m \u001b[1m176s\u001b[0m 18s/step - accuracy: 0.8332 - loss: 0.4352 - val_accuracy: 0.7121 - val_loss: 0.7099\n",
      "Epoch 21/30\n",
      "\u001b[1m8/8\u001b[0m \u001b[32m━━━━━━━━━━━━━━━━━━━━\u001b[0m\u001b[37m\u001b[0m \u001b[1m144s\u001b[0m 14s/step - accuracy: 0.8264 - loss: 0.4309 - val_accuracy: 0.6818 - val_loss: 0.8095\n",
      "Epoch 22/30\n",
      "\u001b[1m8/8\u001b[0m \u001b[32m━━━━━━━━━━━━━━━━━━━━\u001b[0m\u001b[37m\u001b[0m \u001b[1m137s\u001b[0m 13s/step - accuracy: 0.8390 - loss: 0.4129 - val_accuracy: 0.6364 - val_loss: 0.7264\n",
      "Epoch 23/30\n",
      "\u001b[1m8/8\u001b[0m \u001b[32m━━━━━━━━━━━━━━━━━━━━\u001b[0m\u001b[37m\u001b[0m \u001b[1m128s\u001b[0m 12s/step - accuracy: 0.8480 - loss: 0.3947 - val_accuracy: 0.6515 - val_loss: 0.7845\n",
      "Epoch 24/30\n",
      "\u001b[1m8/8\u001b[0m \u001b[32m━━━━━━━━━━━━━━━━━━━━\u001b[0m\u001b[37m\u001b[0m \u001b[1m184s\u001b[0m 19s/step - accuracy: 0.8736 - loss: 0.3545 - val_accuracy: 0.6061 - val_loss: 0.8132\n",
      "Epoch 25/30\n",
      "\u001b[1m8/8\u001b[0m \u001b[32m━━━━━━━━━━━━━━━━━━━━\u001b[0m\u001b[37m\u001b[0m \u001b[1m179s\u001b[0m 19s/step - accuracy: 0.8900 - loss: 0.2862 - val_accuracy: 0.6515 - val_loss: 0.7654\n",
      "Epoch 26/30\n",
      "\u001b[1m8/8\u001b[0m \u001b[32m━━━━━━━━━━━━━━━━━━━━\u001b[0m\u001b[37m\u001b[0m \u001b[1m128s\u001b[0m 12s/step - accuracy: 0.8687 - loss: 0.3473 - val_accuracy: 0.5606 - val_loss: 0.8607\n",
      "Epoch 27/30\n",
      "\u001b[1m8/8\u001b[0m \u001b[32m━━━━━━━━━━━━━━━━━━━━\u001b[0m\u001b[37m\u001b[0m \u001b[1m145s\u001b[0m 15s/step - accuracy: 0.8173 - loss: 0.5105 - val_accuracy: 0.6667 - val_loss: 0.6541\n",
      "Epoch 28/30\n",
      "\u001b[1m8/8\u001b[0m \u001b[32m━━━━━━━━━━━━━━━━━━━━\u001b[0m\u001b[37m\u001b[0m \u001b[1m123s\u001b[0m 11s/step - accuracy: 0.8875 - loss: 0.3284 - val_accuracy: 0.7121 - val_loss: 0.5751\n",
      "Epoch 29/30\n",
      "\u001b[1m8/8\u001b[0m \u001b[32m━━━━━━━━━━━━━━━━━━━━\u001b[0m\u001b[37m\u001b[0m \u001b[1m161s\u001b[0m 16s/step - accuracy: 0.8700 - loss: 0.2873 - val_accuracy: 0.6970 - val_loss: 0.7069\n",
      "Epoch 30/30\n",
      "\u001b[1m8/8\u001b[0m \u001b[32m━━━━━━━━━━━━━━━━━━━━\u001b[0m\u001b[37m\u001b[0m \u001b[1m153s\u001b[0m 16s/step - accuracy: 0.8927 - loss: 0.2922 - val_accuracy: 0.6667 - val_loss: 0.8001\n"
     ]
    }
   ],
   "source": [
    "history=model.fit(x_train,epochs=30,validation_data=x_test)"
   ]
  },
  {
   "cell_type": "code",
   "execution_count": 1,
   "id": "83fe4262-68e7-4699-9020-52e08bae011c",
   "metadata": {},
   "outputs": [
    {
     "ename": "NameError",
     "evalue": "name 'plt' is not defined",
     "output_type": "error",
     "traceback": [
      "\u001b[1;31m---------------------------------------------------------------------------\u001b[0m",
      "\u001b[1;31mNameError\u001b[0m                                 Traceback (most recent call last)",
      "Cell \u001b[1;32mIn[1], line 1\u001b[0m\n\u001b[1;32m----> 1\u001b[0m \u001b[43mplt\u001b[49m\u001b[38;5;241m.\u001b[39mplot(history\u001b[38;5;241m.\u001b[39mhistory[\u001b[38;5;124m\"\u001b[39m\u001b[38;5;124maccuracy\u001b[39m\u001b[38;5;124m\"\u001b[39m])\n\u001b[0;32m      2\u001b[0m plt\u001b[38;5;241m.\u001b[39mplot(history\u001b[38;5;241m.\u001b[39mhistory[\u001b[38;5;124m\"\u001b[39m\u001b[38;5;124mval_accuracy\u001b[39m\u001b[38;5;124m\"\u001b[39m])\n\u001b[0;32m      3\u001b[0m plt\u001b[38;5;241m.\u001b[39mtitle(\u001b[38;5;124m\"\u001b[39m\u001b[38;5;124mModel Accuracy\u001b[39m\u001b[38;5;124m\"\u001b[39m)\n",
      "\u001b[1;31mNameError\u001b[0m: name 'plt' is not defined"
     ]
    }
   ],
   "source": [
    "plt.plot(history.history[\"accuracy\"])\n",
    "plt.plot(history.history[\"val_accuracy\"])\n",
    "plt.title(\"Model Accuracy\")\n",
    "plt.xlabel(\"Epochs\")\n",
    "plt.ylable(\"Accuracy\")\n",
    "plt.legend([\"Train\",\"Validation\"])\n",
    "plt.show()"
   ]
  },
  {
   "cell_type": "code",
   "execution_count": null,
   "id": "2974cf1a-2a18-4fbe-a32d-bba83da2efa8",
   "metadata": {},
   "outputs": [],
   "source": [
    "plt.plot(history.history[\"loss\"])\n",
    "plt.plot(history.history[\"val_loss\"])\n",
    "plt.title(\"Model Loss\")\n",
    "plt.xlabel(\"Epochs\")\n",
    "plt.ylabel(\"Loss\")\n",
    "plt.legend([\"Train\", \"Validation\"])\n",
    "plt.show()"
   ]
  },
  {
   "cell_type": "code",
   "execution_count": null,
   "id": "2e22a9ee-7afc-4c3e-afb5-2bb7a61a23e1",
   "metadata": {},
   "outputs": [],
   "source": [
    "class_labels = X_train.class_indices"
   ]
  },
  {
   "cell_type": "code",
   "execution_count": null,
   "id": "3a8d05b4-5443-4897-9af9-fa6c92d03774",
   "metadata": {},
   "outputs": [],
   "source": [
    "class_names = {value: key for key, value in class_labels.items()}\n",
    "print(\"Class Names:\", class_names)"
   ]
  },
  {
   "cell_type": "code",
   "execution_count": null,
   "id": "34341aea-26cd-43a8-a10a-fdc046e92851",
   "metadata": {},
   "outputs": [],
   "source": [
    "from tensorflow.keras.preprocessing import image"
   ]
  },
  {
   "cell_type": "code",
   "execution_count": null,
   "id": "fdde6274-c164-40a8-866c-addfa420b904",
   "metadata": {},
   "outputs": [],
   "source": [
    "img_path = r\"C:\\Users\\Soft\\Desktop\\Py\\Docs\\test_img.jpeg\""
   ]
  },
  {
   "cell_type": "code",
   "execution_count": null,
   "id": "4776ef45-19e5-4343-ad61-a658369a4e53",
   "metadata": {},
   "outputs": [],
   "source": [
    "img = image.load_img(img_path, target_size=(img_width, img_height))"
   ]
  },
  {
   "cell_type": "code",
   "execution_count": null,
   "id": "5b714c31-5c30-490d-81a0-ef115416bb57",
   "metadata": {},
   "outputs": [],
   "source": [
    "img_arr = image.img_to_array(img)"
   ]
  },
  {
   "cell_type": "code",
   "execution_count": null,
   "id": "9ae9dedf-b653-481d-a9fc-58bc76073262",
   "metadata": {},
   "outputs": [],
   "source": [
    "img_arr = img_arr / 255.0"
   ]
  },
  {
   "cell_type": "code",
   "execution_count": null,
   "id": "f3ccc723-c99d-4ed0-8b57-2ae44d3b47c2",
   "metadata": {},
   "outputs": [],
   "source": [
    "img_arr = img_arr / 255.0"
   ]
  },
  {
   "cell_type": "code",
   "execution_count": null,
   "id": "b43adb45-afd8-4a35-affb-892f523f3cd7",
   "metadata": {},
   "outputs": [],
   "source": [
    "pred = model.predict(img_arr)"
   ]
  },
  {
   "cell_type": "code",
   "execution_count": null,
   "id": "8b9f9546-28c9-4d2a-9d5c-0f0e7eacdc72",
   "metadata": {},
   "outputs": [],
   "source": [
    "pred_class = np.argmax(pred)"
   ]
  },
  {
   "cell_type": "code",
   "execution_count": null,
   "id": "559a0e70-7fd0-41c2-934c-a93d4f4ccd9b",
   "metadata": {},
   "outputs": [],
   "source": [
    "class_names[pred_class]"
   ]
  }
 ],
 "metadata": {
  "kernelspec": {
   "display_name": "Python 3 (ipykernel)",
   "language": "python",
   "name": "python3"
  },
  "language_info": {
   "codemirror_mode": {
    "name": "ipython",
    "version": 3
   },
   "file_extension": ".py",
   "mimetype": "text/x-python",
   "name": "python",
   "nbconvert_exporter": "python",
   "pygments_lexer": "ipython3",
   "version": "3.12.0"
  }
 },
 "nbformat": 4,
 "nbformat_minor": 5
}
