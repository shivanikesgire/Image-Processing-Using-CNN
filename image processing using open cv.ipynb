{
 "cells": [
  {
   "cell_type": "code",
   "execution_count": 1,
   "id": "34e33ea0-8c66-4db3-ae66-b2ddf1ba9ccf",
   "metadata": {},
   "outputs": [],
   "source": [
    "import cv2 as cv"
   ]
  },
  {
   "cell_type": "code",
   "execution_count": 2,
   "id": "c668a7d9-c99e-42d7-926f-251de99816fd",
   "metadata": {},
   "outputs": [
    {
     "data": {
      "text/plain": [
       "-1"
      ]
     },
     "execution_count": 2,
     "metadata": {},
     "output_type": "execute_result"
    }
   ],
   "source": [
    "img=cv.imread(\"MicrosoftTeams-image.png\")\n",
    "cv.imshow(\"Original image\",img)\n",
    "cv.waitKey(0)"
   ]
  },
  {
   "cell_type": "code",
   "execution_count": 3,
   "id": "00e88ca2-5c7e-4ae7-98f6-5fa577e7ec59",
   "metadata": {},
   "outputs": [
    {
     "data": {
      "text/plain": [
       "(800, 800, 3)"
      ]
     },
     "execution_count": 3,
     "metadata": {},
     "output_type": "execute_result"
    }
   ],
   "source": [
    "img.shape"
   ]
  },
  {
   "cell_type": "code",
   "execution_count": 4,
   "id": "9d6d13d1-6a2a-44e8-a7d6-8e82941849be",
   "metadata": {},
   "outputs": [],
   "source": [
    "blue_image=img.copy()"
   ]
  },
  {
   "cell_type": "code",
   "execution_count": 5,
   "id": "43f7618f-aed9-4ef5-a296-9d8e18f9e6a1",
   "metadata": {},
   "outputs": [],
   "source": [
    "blue_image[:,:,1]=0   # Green will be 0\n",
    "blue_image[:,:,2]=0   # Red will be 0"
   ]
  },
  {
   "cell_type": "code",
   "execution_count": 6,
   "id": "7dd1ce0a-5424-4b04-9df5-ec68b21127ae",
   "metadata": {},
   "outputs": [
    {
     "data": {
      "text/plain": [
       "-1"
      ]
     },
     "execution_count": 6,
     "metadata": {},
     "output_type": "execute_result"
    }
   ],
   "source": [
    "cv.imshow(\"Blue Image\",blue_image)\n",
    "cv.imwrite(\"Blue Image.png\",blue_image)\n",
    "cv.waitKey(0)"
   ]
  },
  {
   "cell_type": "code",
   "execution_count": 7,
   "id": "a7f286f2-54a5-483a-8117-b69569ad2b3e",
   "metadata": {},
   "outputs": [],
   "source": [
    "green_image=img.copy()"
   ]
  },
  {
   "cell_type": "code",
   "execution_count": 8,
   "id": "7759c260-9abc-445c-ae3e-a718858b214a",
   "metadata": {},
   "outputs": [],
   "source": [
    "green_image[:,:,0]=0   # Blue will be 0\n",
    "green_image[:,:,2]=0   # Red will be 0"
   ]
  },
  {
   "cell_type": "code",
   "execution_count": 33,
   "id": "b7927451-b304-4942-bb21-688bc2ce3d42",
   "metadata": {},
   "outputs": [
    {
     "data": {
      "text/plain": [
       "-1"
      ]
     },
     "execution_count": 33,
     "metadata": {},
     "output_type": "execute_result"
    }
   ],
   "source": [
    "cv.imshow(\"Green Image\",green_image)\n",
    "cv.imwrite(\"Green Image.png\",green_image)\n",
    "cv.waitKey(0)"
   ]
  },
  {
   "cell_type": "code",
   "execution_count": 10,
   "id": "3e4ceff0-d4e2-4671-9a15-d059bfa58388",
   "metadata": {},
   "outputs": [
    {
     "data": {
      "text/plain": [
       "array([[255, 255, 255, ..., 255, 255, 255],\n",
       "       [255, 255, 255, ..., 255, 255, 255],\n",
       "       [255, 255, 255, ..., 255, 255, 255],\n",
       "       ...,\n",
       "       [255, 255, 255, ..., 255, 255, 255],\n",
       "       [255, 255, 255, ..., 255, 255, 255],\n",
       "       [255, 255, 255, ..., 255, 255, 255]], dtype=uint8)"
      ]
     },
     "execution_count": 10,
     "metadata": {},
     "output_type": "execute_result"
    }
   ],
   "source": [
    "img[:,:,0]"
   ]
  },
  {
   "cell_type": "code",
   "execution_count": 11,
   "id": "86c9fcd0-c96a-4d42-80a8-7b7d814e2699",
   "metadata": {},
   "outputs": [
    {
     "data": {
      "text/plain": [
       "array([[255, 255, 255, ..., 255, 255, 255],\n",
       "       [255, 255, 255, ..., 255, 255, 255],\n",
       "       [255, 255, 255, ..., 255, 255, 255],\n",
       "       ...,\n",
       "       [255, 255, 255, ..., 255, 255, 255],\n",
       "       [255, 255, 255, ..., 255, 255, 255],\n",
       "       [255, 255, 255, ..., 255, 255, 255]], dtype=uint8)"
      ]
     },
     "execution_count": 11,
     "metadata": {},
     "output_type": "execute_result"
    }
   ],
   "source": [
    "img[:,:,1]"
   ]
  },
  {
   "cell_type": "code",
   "execution_count": 12,
   "id": "73292780-9ebc-4694-a09f-77d96ac89455",
   "metadata": {},
   "outputs": [],
   "source": [
    "red_image=img.copy()"
   ]
  },
  {
   "cell_type": "code",
   "execution_count": 13,
   "id": "64fcdf34-60ad-4c6e-b7ec-69fd506edcca",
   "metadata": {},
   "outputs": [],
   "source": [
    "red_image[:,:,0]=0   #Blue will be 0\n",
    "red_image[:,:,1]=0   # Red will be 0"
   ]
  },
  {
   "cell_type": "code",
   "execution_count": 34,
   "id": "4ebbdb5a-6dda-411f-bdb0-56138e3c271b",
   "metadata": {},
   "outputs": [
    {
     "data": {
      "text/plain": [
       "-1"
      ]
     },
     "execution_count": 34,
     "metadata": {},
     "output_type": "execute_result"
    }
   ],
   "source": [
    "cv.imshow(\"Red Image\",red_image)\n",
    "cv.imwrite(\"Red Image.png\",red_image)\n",
    "cv.waitKey(0)"
   ]
  },
  {
   "cell_type": "code",
   "execution_count": 35,
   "id": "4396c09d-b6ba-4a14-962e-d7258fb7f004",
   "metadata": {},
   "outputs": [
    {
     "data": {
      "text/plain": [
       "-1"
      ]
     },
     "execution_count": 35,
     "metadata": {},
     "output_type": "execute_result"
    }
   ],
   "source": [
    "resized_img=cv.resize(img,(500,500))\n",
    "cv.imshow(\"Resized image\",resized_img)\n",
    "cv.imwrite(\"Resized Image.png\",resized_img)\n",
    "cv.waitKey(0)"
   ]
  },
  {
   "cell_type": "code",
   "execution_count": 16,
   "id": "4d784307-7e89-4181-b1bc-a5985e047acc",
   "metadata": {},
   "outputs": [
    {
     "data": {
      "text/plain": [
       "-1"
      ]
     },
     "execution_count": 16,
     "metadata": {},
     "output_type": "execute_result"
    }
   ],
   "source": [
    "rescaled_img=cv.resize(img,None,fx=0.5,fy=0.5)\n",
    "cv.imshow(\"Rescaled Image\",rescaled_img)\n",
    "cv.imshow(\"Original Image\",img)\n",
    "cv.waitKey(0)"
   ]
  },
  {
   "cell_type": "code",
   "execution_count": 17,
   "id": "109de667-b1e9-4c7b-ae84-bf9a238816fa",
   "metadata": {},
   "outputs": [],
   "source": [
    "col,row=img.shape[:2]\n",
    "rotation_matrix=cv.getRotationMatrix2D((col/2,row/2),45,1)\n",
    "rotated_img=cv.warpAffine(img,rotation_matrix,(col,row))"
   ]
  },
  {
   "cell_type": "code",
   "execution_count": 18,
   "id": "5b922b38-acdc-4a04-889c-f6b36d04d084",
   "metadata": {},
   "outputs": [
    {
     "data": {
      "text/plain": [
       "-1"
      ]
     },
     "execution_count": 18,
     "metadata": {},
     "output_type": "execute_result"
    }
   ],
   "source": [
    "cv.imshow(\"Rotation Image\",rotated_img)\n",
    "cv.waitKey(0)"
   ]
  },
  {
   "cell_type": "code",
   "execution_count": 19,
   "id": "0ce46574-1346-4823-aea8-f78da736d1a7",
   "metadata": {},
   "outputs": [],
   "source": [
    "col,row=img.shape[:2]\n",
    "rotation_matrix=cv.getRotationMatrix2D((col/2,row/2),60,12)\n",
    "rotated_img=cv.warpAffine(img,rotation_matrix,(col,row))"
   ]
  },
  {
   "cell_type": "code",
   "execution_count": 20,
   "id": "3265b44e-34ae-4a97-91f0-7cf6da14ae4e",
   "metadata": {},
   "outputs": [
    {
     "data": {
      "text/plain": [
       "-1"
      ]
     },
     "execution_count": 20,
     "metadata": {},
     "output_type": "execute_result"
    }
   ],
   "source": [
    "cv.imshow(\"Rotation Image\",rotated_img)\n",
    "cv.waitKey(0)"
   ]
  },
  {
   "cell_type": "code",
   "execution_count": 21,
   "id": "04880f83-b5d1-48e4-9ab0-7b09f4c1fb0e",
   "metadata": {},
   "outputs": [],
   "source": [
    "blurred_img=cv.GaussianBlur(img,(7,7),3)"
   ]
  },
  {
   "cell_type": "code",
   "execution_count": 22,
   "id": "21b63e9d-dc32-482f-8144-253e4104c2d0",
   "metadata": {},
   "outputs": [
    {
     "data": {
      "text/plain": [
       "-1"
      ]
     },
     "execution_count": 22,
     "metadata": {},
     "output_type": "execute_result"
    }
   ],
   "source": [
    "cv.imshow(\"Blurred Image\",blurred_img)\n",
    "cv.waitKey(0)"
   ]
  },
  {
   "cell_type": "code",
   "execution_count": 23,
   "id": "f1ea3f66-155f-437e-ab8d-494c85d4e2ed",
   "metadata": {},
   "outputs": [],
   "source": [
    "import numpy as np"
   ]
  },
  {
   "cell_type": "code",
   "execution_count": 24,
   "id": "12a09a3a-e9f2-4a20-9585-c039c945bf12",
   "metadata": {},
   "outputs": [],
   "source": [
    "sheared_matrix=np.float32([[1,0.5,0],[0.5,1,0]])\n",
    "sheared_img=cv.warpAffine(img,sheared_matrix,(col,row))"
   ]
  },
  {
   "cell_type": "code",
   "execution_count": 25,
   "id": "007c1570-3743-43ce-9aeb-9d1f6c2e62c3",
   "metadata": {},
   "outputs": [
    {
     "data": {
      "text/plain": [
       "-1"
      ]
     },
     "execution_count": 25,
     "metadata": {},
     "output_type": "execute_result"
    }
   ],
   "source": [
    "cv.imshow(\"Sheared Image\",sheared_img)\n",
    "cv.waitKey(0)"
   ]
  },
  {
   "cell_type": "code",
   "execution_count": 26,
   "id": "59911d67-c3d8-4432-8acc-421cbf2c775b",
   "metadata": {},
   "outputs": [],
   "source": [
    "sheared_matrix=np.float32([[1,0.25,0],[0,1,0]])   # at 0,1,0 we change row and column \n",
    "sheared_img=cv.warpAffine(img,sheared_matrix,(col,row))"
   ]
  },
  {
   "cell_type": "code",
   "execution_count": 27,
   "id": "46566e3c-3e06-4b0f-a660-fb486302cb72",
   "metadata": {},
   "outputs": [
    {
     "data": {
      "text/plain": [
       "-1"
      ]
     },
     "execution_count": 27,
     "metadata": {},
     "output_type": "execute_result"
    }
   ],
   "source": [
    "cv.imshow(\"Sheared Image\",sheared_img)\n",
    "cv.waitKey(0)"
   ]
  },
  {
   "cell_type": "code",
   "execution_count": 28,
   "id": "d4da202c-9aa6-44d8-a595-092b052260cb",
   "metadata": {},
   "outputs": [],
   "source": [
    "hsv_img=cv.cvtColor(img,cv.COLOR_BGR2HSV)"
   ]
  },
  {
   "cell_type": "code",
   "execution_count": 29,
   "id": "f1c8aa77-9d64-4bfb-9815-cf3f02c02b95",
   "metadata": {},
   "outputs": [],
   "source": [
    "hsv_img[:,:,0]+=20\n",
    "hsv_img[:,:,1]*=2"
   ]
  },
  {
   "cell_type": "code",
   "execution_count": 30,
   "id": "01e41153-f3e0-44f6-9e14-a8bd385a9577",
   "metadata": {},
   "outputs": [
    {
     "data": {
      "text/plain": [
       "-1"
      ]
     },
     "execution_count": 30,
     "metadata": {},
     "output_type": "execute_result"
    }
   ],
   "source": [
    "cv.imshow(\"HSV Image\",hsv_img)\n",
    "cv.waitKey(0)"
   ]
  },
  {
   "cell_type": "code",
   "execution_count": 31,
   "id": "e41b283a-73b4-4e2a-965e-c59ac69325c8",
   "metadata": {},
   "outputs": [],
   "source": [
    "hsv_img[:,:,0]+=20\n",
    "hsv_img[:,:,1]*=10"
   ]
  },
  {
   "cell_type": "code",
   "execution_count": 32,
   "id": "a3b4e67c-6567-47ea-8b86-d6162100af57",
   "metadata": {},
   "outputs": [
    {
     "data": {
      "text/plain": [
       "-1"
      ]
     },
     "execution_count": 32,
     "metadata": {},
     "output_type": "execute_result"
    }
   ],
   "source": [
    "cv.imshow(\"HSV Image\",hsv_img)\n",
    "cv.waitKey(0)"
   ]
  },
  {
   "cell_type": "code",
   "execution_count": null,
   "id": "0bcd3859-8fd8-45be-97b7-32c6f8554d80",
   "metadata": {},
   "outputs": [],
   "source": [
    "import tensorflow as tf\n",
    "from tensorflow.keras.preprocessing.image import ImageDataGenerator\n",
    "import os"
   ]
  }
 ],
 "metadata": {
  "kernelspec": {
   "display_name": "Python 3 (ipykernel)",
   "language": "python",
   "name": "python3"
  },
  "language_info": {
   "codemirror_mode": {
    "name": "ipython",
    "version": 3
   },
   "file_extension": ".py",
   "mimetype": "text/x-python",
   "name": "python",
   "nbconvert_exporter": "python",
   "pygments_lexer": "ipython3",
   "version": "3.12.6"
  }
 },
 "nbformat": 4,
 "nbformat_minor": 5
}
